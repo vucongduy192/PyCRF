{
 "cells": [
  {
   "cell_type": "code",
   "execution_count": 1,
   "metadata": {},
   "outputs": [],
   "source": [
    "import pycrfsuite\n",
    "import os\n",
    "from collections import defaultdict\n",
    "\n",
    "from sklearn.preprocessing import LabelBinarizer\n",
    "from sklearn.metrics import accuracy_score\n",
    "\n",
    "from itertools import chain"
   ]
  },
  {
   "cell_type": "markdown",
   "metadata": {},
   "source": [
    "## Prepare data"
   ]
  },
  {
   "cell_type": "code",
   "execution_count": 2,
   "metadata": {},
   "outputs": [],
   "source": [
    "def return_file_path(dir_path, file_path):\n",
    "    return os.path.join(dir_path, file_path)"
   ]
  },
  {
   "cell_type": "code",
   "execution_count": 4,
   "metadata": {},
   "outputs": [],
   "source": [
    "def convert_x_i(x_i):\n",
    "    features_dict = defaultdict()\n",
    "    num_features = len(x_i)\n",
    "\n",
    "    dd = defaultdict()\n",
    "\n",
    "    dd['bias'] = 1.0\n",
    "\n",
    "    for idx in range(num_features):\n",
    "        pixel_i = \"pixel_\" + str(idx)\n",
    "        dd[pixel_i] = x_i[idx]\n",
    "\n",
    "    return dd\n",
    "\n",
    "\n",
    "def convert_x(file_path):\n",
    "    x_arr = []\n",
    "\n",
    "    with open(file_path, \"r\") as x_file:\n",
    "        for x_i_str in x_file:\n",
    "            x_i_str = x_i_str.strip()\n",
    "            x_i_str_arr = x_i_str.split()\n",
    "            x_i = [float(x_ij) for x_ij in x_i_str_arr]\n",
    "\n",
    "            x_i_features = convert_x_i(x_i)\n",
    "\n",
    "            x_arr.append(x_i_features)\n",
    "\n",
    "    return x_arr\n",
    "\n",
    "\n",
    "def prepare_data(data_dir, mode = \"train\"):\n",
    "    file_dir = os.path.join(data_dir, \"{}_words\".format(mode))\n",
    "    words_file = return_file_path(data_dir, \"{}_words.txt\".format(mode))\n",
    "\n",
    "    X = []\n",
    "    Y = []\n",
    "\n",
    "    with open(words_file) as f:\n",
    "        for line in f:\n",
    "            line = line.strip()\n",
    "            i, word = line.split()\n",
    "\n",
    "            x_i_file_path = return_file_path(file_dir, \"text_{}.txt\".format(i))\n",
    "            x_i_arr  = convert_x(x_i_file_path)\n",
    "\n",
    "            y_i_arr = list(word)\n",
    "\n",
    "            X.append(x_i_arr)\n",
    "            Y.append(y_i_arr)\n",
    "\n",
    "    return X, Y"
   ]
  },
  {
   "cell_type": "markdown",
   "metadata": {},
   "source": [
    "## Training"
   ]
  },
  {
   "cell_type": "code",
   "execution_count": 5,
   "metadata": {},
   "outputs": [],
   "source": [
    "def train_model(X, Y, max_iter_count,  model_store = \"handwriting-reco-without-transition.crfsuite\"):\n",
    "    trainer = pycrfsuite.Trainer(verbose=False)\n",
    "\n",
    "    for xseq, yseq in zip(X, Y):\n",
    "        trainer.append(xseq, yseq)\n",
    "\n",
    "    trainer.set_params({\n",
    "        'c1': 1.0,   # coefficient for L1 penalty\n",
    "        'c2': 1e-3,  # coefficient for L2 penalty\n",
    "        'max_iterations': max_iter_count,  # stop earlier\n",
    "\n",
    "        # include transitions that are possible, but not observed\n",
    "        'feature.possible_transitions': False\n",
    "    })\n",
    "    return trainer"
   ]
  },
  {
   "cell_type": "code",
   "execution_count": 6,
   "metadata": {},
   "outputs": [],
   "source": [
    "data_dir = './data'\n",
    "X_train, Y_train = prepare_data(data_dir)\n",
    "trainer = train_model(X_train, Y_train, 300)"
   ]
  },
  {
   "cell_type": "code",
   "execution_count": 7,
   "metadata": {},
   "outputs": [
    {
     "data": {
      "text/plain": [
       "['feature.minfreq',\n",
       " 'feature.possible_states',\n",
       " 'feature.possible_transitions',\n",
       " 'c1',\n",
       " 'c2',\n",
       " 'max_iterations',\n",
       " 'num_memories',\n",
       " 'epsilon',\n",
       " 'period',\n",
       " 'delta',\n",
       " 'linesearch',\n",
       " 'max_linesearch']"
      ]
     },
     "execution_count": 7,
     "metadata": {},
     "output_type": "execute_result"
    }
   ],
   "source": [
    "trainer.params()"
   ]
  },
  {
   "cell_type": "code",
   "execution_count": 8,
   "metadata": {},
   "outputs": [],
   "source": [
    "trainer.train(\"handwriting-reco-without-transition\")"
   ]
  },
  {
   "cell_type": "code",
   "execution_count": 9,
   "metadata": {},
   "outputs": [
    {
     "name": "stdout",
     "output_type": "stream",
     "text": [
      "{'num': 291, 'scores': {}, 'loss': 48616.998369, 'feature_norm': 81.109918, 'error_norm': 190.033007, 'active_features': 3630, 'linesearch_trials': 2, 'linesearch_step': 0.5, 'time': 1.63}\n",
      "{'num': 292, 'scores': {}, 'loss': 48614.966994, 'feature_norm': 81.169106, 'error_norm': 245.586771, 'active_features': 3630, 'linesearch_trials': 2, 'linesearch_step': 0.5, 'time': 1.629}\n",
      "{'num': 293, 'scores': {}, 'loss': 48613.472277, 'feature_norm': 81.227089, 'error_norm': 255.462485, 'active_features': 3632, 'linesearch_trials': 2, 'linesearch_step': 0.5, 'time': 1.635}\n",
      "{'num': 294, 'scores': {}, 'loss': 48610.33438, 'feature_norm': 81.285118, 'error_norm': 213.263277, 'active_features': 3633, 'linesearch_trials': 2, 'linesearch_step': 0.5, 'time': 1.67}\n",
      "{'num': 295, 'scores': {}, 'loss': 48608.523446, 'feature_norm': 81.340861, 'error_norm': 212.62459, 'active_features': 3634, 'linesearch_trials': 2, 'linesearch_step': 0.5, 'time': 1.63}\n",
      "{'num': 296, 'scores': {}, 'loss': 48606.094163, 'feature_norm': 81.395297, 'error_norm': 210.61342, 'active_features': 3635, 'linesearch_trials': 2, 'linesearch_step': 0.5, 'time': 1.62}\n",
      "{'num': 297, 'scores': {}, 'loss': 48604.169085, 'feature_norm': 81.450916, 'error_norm': 200.395893, 'active_features': 3634, 'linesearch_trials': 2, 'linesearch_step': 0.5, 'time': 1.651}\n",
      "{'num': 298, 'scores': {}, 'loss': 48602.057525, 'feature_norm': 81.502995, 'error_norm': 215.454589, 'active_features': 3632, 'linesearch_trials': 2, 'linesearch_step': 0.5, 'time': 1.697}\n",
      "{'num': 299, 'scores': {}, 'loss': 48600.240525, 'feature_norm': 81.54938, 'error_norm': 212.463049, 'active_features': 3629, 'linesearch_trials': 2, 'linesearch_step': 0.5, 'time': 1.664}\n",
      "{'num': 300, 'scores': {}, 'loss': 48598.275463, 'feature_norm': 81.601819, 'error_norm': 221.791783, 'active_features': 3629, 'linesearch_trials': 2, 'linesearch_step': 0.5, 'time': 1.648}\n"
     ]
    }
   ],
   "source": [
    "history_log = trainer.logparser.iterations[290:300]\n",
    "for log in history_log:\n",
    "    print (log)"
   ]
  },
  {
   "cell_type": "markdown",
   "metadata": {},
   "source": [
    "## Evaluation"
   ]
  },
  {
   "cell_type": "code",
   "execution_count": 5,
   "metadata": {},
   "outputs": [],
   "source": [
    "def get_preds(X, model_store = \"handwriting-reco-without-transition\"):\n",
    "    tagger = pycrfsuite.Tagger()\n",
    "    tagger.open(model_store)\n",
    "    Y_pred = [tagger.tag(x) for x in X]\n",
    "\n",
    "    return Y_pred\n",
    "\n",
    "def test_model(X_test, Y_test):\n",
    "    Y_test_pred = get_preds(X_test)\n",
    "\n",
    "    lb = LabelBinarizer()\n",
    "\n",
    "    y_test_combined = lb.fit_transform(list(chain.from_iterable(Y_test)))\n",
    "    y_pred_combined = lb.transform(list(chain.from_iterable(Y_test_pred)))\n",
    "\n",
    "    print (\"Test accuracy : {}\".format(accuracy_score(y_test_combined, y_pred_combined)))"
   ]
  },
  {
   "cell_type": "code",
   "execution_count": 6,
   "metadata": {},
   "outputs": [],
   "source": [
    "data_dir = './data'\n",
    "X_test, Y_test = prepare_data(data_dir, mode = \"test\")"
   ]
  },
  {
   "cell_type": "code",
   "execution_count": null,
   "metadata": {},
   "outputs": [],
   "source": [
    "test_model(X_test, Y_test)"
   ]
  },
  {
   "cell_type": "code",
   "execution_count": 12,
   "metadata": {},
   "outputs": [
    {
     "data": {
      "image/png": "[encoded data removed]",
      "text/plain": [
       "<Figure size 432x288 with 1 Axes>"
      ]
     },
     "metadata": {
      "needs_background": "light"
     },
     "output_type": "display_data"
    },
    {
     "name": "stdout",
     "output_type": "stream",
     "text": [
      "['s', 'a', 't', 'i', 's', 'f', 'a', 'c', 't', 'o', 'r', 'y']\n"
     ]
    }
   ],
   "source": [
    "import cv2\n",
    "import matplotlib.pyplot as plt\n",
    "\n",
    "idx = 2\n",
    "test_dir = './data/test_words'\n",
    "img_name = 'img_' + str(idx) + '.png'   # img file name: img_13480.png\n",
    "img = cv2.imread(os.path.join(test_dir, img_name))\n",
    "plt.imshow(img)\n",
    "plt.show()\n",
    "print (Y_test[idx])"
   ]
  },
  {
   "cell_type": "code",
   "execution_count": null,
   "metadata": {},
   "outputs": [],
   "source": []
  },
  {
   "cell_type": "code",
   "execution_count": null,
   "metadata": {},
   "outputs": [],
   "source": []
  }
 ],
 "metadata": {
  "kernelspec": {
   "display_name": "Python 3",
   "language": "python",
   "name": "python3"
  },
  "language_info": {
   "codemirror_mode": {
    "name": "ipython",
    "version": 3
   },
   "file_extension": ".py",
   "mimetype": "text/x-python",
   "name": "python",
   "nbconvert_exporter": "python",
   "pygments_lexer": "ipython3",
   "version": "3.6.8"
  }
 },
 "nbformat": 4,
 "nbformat_minor": 2
}
