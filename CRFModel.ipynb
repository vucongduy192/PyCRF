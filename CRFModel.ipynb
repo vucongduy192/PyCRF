{
 "cells": [
  {
   "cell_type": "code",
   "execution_count": 1,
   "metadata": {},
   "outputs": [],
   "source": [
    "import pycrfsuite\n",
    "import os\n",
    "from collections import defaultdict\n",
    "\n",
    "from sklearn.preprocessing import LabelBinarizer\n",
    "from sklearn.metrics import accuracy_score\n",
    "\n",
    "from itertools import chain"
   ]
  },
  {
   "cell_type": "code",
   "execution_count": 2,
   "metadata": {},
   "outputs": [],
   "source": [
    "def return_file_path(dir_path, file_path):\n",
    "    return os.path.join(dir_path, file_path)"
   ]
  },
  {
   "cell_type": "code",
   "execution_count": 3,
   "metadata": {},
   "outputs": [],
   "source": [
    "def convert_x_i(x_i):\n",
    "    features_dict = defaultdict()\n",
    "    num_features = len(x_i)\n",
    "\n",
    "    dd = defaultdict()\n",
    "\n",
    "    dd['bias'] = 1.0\n",
    "\n",
    "    for idx in range(num_features):\n",
    "        pixel_i = \"pixel_\" + str(idx)\n",
    "        dd[pixel_i] = x_i[idx]\n",
    "\n",
    "    return dd\n",
    "\n",
    "\n",
    "def convert_x(file_path):\n",
    "    x_arr = []\n",
    "\n",
    "    with open(file_path, \"r\") as x_file:\n",
    "        for x_i_str in x_file:\n",
    "            x_i_str = x_i_str.strip()\n",
    "            x_i_str_arr = x_i_str.split()\n",
    "            x_i = [float(x_ij) for x_ij in x_i_str_arr]\n",
    "\n",
    "            x_i_features = convert_x_i(x_i)\n",
    "\n",
    "            x_arr.append(x_i_features)\n",
    "\n",
    "    return x_arr\n",
    "\n",
    "\n",
    "def prepare_data(data_dir, mode = \"train\"):\n",
    "    file_dir = os.path.join(data_dir, \"{}_words\".format(mode))\n",
    "    words_file = return_file_path(data_dir, \"{}_words.txt\".format(mode))\n",
    "\n",
    "    X = []\n",
    "    Y = []\n",
    "\n",
    "    with open(words_file) as f:\n",
    "        for line in f:\n",
    "            line = line.strip()\n",
    "            i, word = line.split()\n",
    "\n",
    "            x_i_file_path = return_file_path(file_dir, \"text_{}.txt\".format(i))\n",
    "            x_i_arr  = convert_x(x_i_file_path)\n",
    "\n",
    "            y_i_arr = list(word)\n",
    "\n",
    "            X.append(x_i_arr)\n",
    "            Y.append(y_i_arr)\n",
    "\n",
    "    return X, Y"
   ]
  },
  {
   "cell_type": "code",
   "execution_count": 4,
   "metadata": {},
   "outputs": [],
   "source": [
    "def train_model(X, Y, max_iter_count,  model_store = \"handwriting-reco500.crfsuite\"):\n",
    "    trainer = pycrfsuite.Trainer(verbose=False)\n",
    "\n",
    "    for xseq, yseq in zip(X, Y):\n",
    "        trainer.append(xseq, yseq)\n",
    "\n",
    "    trainer.set_params({\n",
    "        'c1': 1.0,   # coefficient for L1 penalty\n",
    "        'c2': 1e-3,  # coefficient for L2 penalty\n",
    "        'max_iterations': max_iter_count,  # stop earlier\n",
    "\n",
    "        # include transitions that are possible, but not observed\n",
    "        'feature.possible_transitions': True\n",
    "    })\n",
    "\n",
    "    trainer.train(model_store)\n",
    "\n",
    "    print(trainer.logparser.last_iteration)"
   ]
  },
  {
   "cell_type": "code",
   "execution_count": 5,
   "metadata": {},
   "outputs": [],
   "source": [
    "def get_preds(X, model_store = \"handwriting-reco500.crfsuite\"):\n",
    "    tagger = pycrfsuite.Tagger()\n",
    "    tagger.open(model_store)\n",
    "    Y_pred = [tagger.tag(x) for x in X]\n",
    "\n",
    "    return Y_pred\n",
    "\n",
    "\n",
    "def test_model(X_test, Y_test):\n",
    "    Y_test_pred = get_preds(X_test)\n",
    "\n",
    "    lb = LabelBinarizer()\n",
    "\n",
    "    y_test_combined = lb.fit_transform(list(chain.from_iterable(Y_test)))\n",
    "    y_pred_combined = lb.transform(list(chain.from_iterable(Y_test_pred)))\n",
    "\n",
    "    print (\"Test accuracy : {}\".format(accuracy_score(y_test_combined, y_pred_combined)))"
   ]
  },
  {
   "cell_type": "code",
   "execution_count": 6,
   "metadata": {},
   "outputs": [
    {
     "name": "stdout",
     "output_type": "stream",
     "text": [
      "{'num': 500, 'scores': {}, 'loss': 294700.724046, 'feature_norm': 110.803228, 'error_norm': 390.817267, 'active_features': 3911, 'linesearch_trials': 1, 'linesearch_step': 1.0, 'time': 5.219}\n",
      "Training successful with 500 iterations.. Enable verbose in the CRF model above and re-run to track progress\n"
     ]
    }
   ],
   "source": [
    "data_dir = './data'\n",
    "X_train, Y_train = prepare_data(data_dir)\n",
    "train_model(X_train, Y_train, 500)\n",
    "\n",
    "print (\"Training successful with 500 iterations.. Enable verbose in the CRF model above and re-run to track progress\")"
   ]
  },
  {
   "cell_type": "code",
   "execution_count": 6,
   "metadata": {},
   "outputs": [
    {
     "name": "stdout",
     "output_type": "stream",
     "text": [
      "Test accuracy : 0.8630203791251664\n"
     ]
    }
   ],
   "source": [
    "data_dir = './data'\n",
    "X_test, Y_test = prepare_data(data_dir, mode = \"test\")\n",
    "test_model(X_test, Y_test)"
   ]
  },
  {
   "cell_type": "code",
   "execution_count": null,
   "metadata": {},
   "outputs": [],
   "source": []
  }
 ],
 "metadata": {
  "kernelspec": {
   "display_name": "Python 3",
   "language": "python",
   "name": "python3"
  },
  "language_info": {
   "codemirror_mode": {
    "name": "ipython",
    "version": 3
   },
   "file_extension": ".py",
   "mimetype": "text/x-python",
   "name": "python",
   "nbconvert_exporter": "python",
   "pygments_lexer": "ipython3",
   "version": "3.6.8"
  }
 },
 "nbformat": 4,
 "nbformat_minor": 2
}
