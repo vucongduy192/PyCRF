{
 "cells": [
  {
   "cell_type": "code",
   "execution_count": 13,
   "metadata": {},
   "outputs": [],
   "source": [
    "import pycrfsuite\n",
    "import os\n",
    "from collections import defaultdict\n",
    "\n",
    "from sklearn.preprocessing import LabelBinarizer\n",
    "from sklearn.metrics import accuracy_score\n",
    "\n",
    "from itertools import chain"
   ]
  },
  {
   "cell_type": "markdown",
   "metadata": {},
   "source": [
    "## Prepare data"
   ]
  },
  {
   "cell_type": "code",
   "execution_count": 14,
   "metadata": {},
   "outputs": [],
   "source": [
    "def return_file_path(dir_path, file_path):\n",
    "    return os.path.join(dir_path, file_path)"
   ]
  },
  {
   "cell_type": "code",
   "execution_count": 15,
   "metadata": {},
   "outputs": [],
   "source": [
    "def convert_x_i(x_i):\n",
    "    features_dict = defaultdict()\n",
    "    num_features = len(x_i)\n",
    "\n",
    "    dd = defaultdict()\n",
    "\n",
    "    dd['bias'] = 1.0\n",
    "\n",
    "    for idx in range(num_features):\n",
    "        pixel_i = \"pixel_\" + str(idx)\n",
    "        dd[pixel_i] = x_i[idx]\n",
    "\n",
    "    return dd\n",
    "\n",
    "\n",
    "def convert_x(file_path):\n",
    "    x_arr = []\n",
    "\n",
    "    with open(file_path, \"r\") as x_file:\n",
    "        for x_i_str in x_file:\n",
    "            x_i_str = x_i_str.strip()\n",
    "            x_i_str_arr = x_i_str.split()\n",
    "            x_i = [float(x_ij) for x_ij in x_i_str_arr]\n",
    "\n",
    "            x_i_features = convert_x_i(x_i)\n",
    "\n",
    "            x_arr.append(x_i_features)\n",
    "\n",
    "    return x_arr\n",
    "\n",
    "\n",
    "def prepare_data(data_dir, mode = \"train\"):\n",
    "    file_dir = os.path.join(data_dir, \"{}_words\".format(mode))\n",
    "    words_file = return_file_path(data_dir, \"{}_words.txt\".format(mode))\n",
    "\n",
    "    X = []\n",
    "    Y = []\n",
    "\n",
    "    with open(words_file) as f:\n",
    "        for line in f:\n",
    "            line = line.strip()\n",
    "            i, word = line.split()\n",
    "\n",
    "            x_i_file_path = return_file_path(file_dir, \"text_{}.txt\".format(i))\n",
    "            x_i_arr  = convert_x(x_i_file_path)\n",
    "\n",
    "            y_i_arr = list(word)\n",
    "\n",
    "            X.append(x_i_arr)\n",
    "            Y.append(y_i_arr)\n",
    "\n",
    "    return X, Y"
   ]
  },
  {
   "cell_type": "markdown",
   "metadata": {},
   "source": [
    "## Training"
   ]
  },
  {
   "cell_type": "code",
   "execution_count": 16,
   "metadata": {},
   "outputs": [],
   "source": [
    "def train_model(X, Y, max_iter_count,  model_store = \"handwriting-reco300.crfsuite\"):\n",
    "    trainer = pycrfsuite.Trainer(verbose=False)\n",
    "\n",
    "    for xseq, yseq in zip(X, Y):\n",
    "        trainer.append(xseq, yseq)\n",
    "\n",
    "    trainer.set_params({\n",
    "        'c1': 1.0,   # coefficient for L1 penalty\n",
    "        'c2': 1e-3,  # coefficient for L2 penalty\n",
    "        'max_iterations': max_iter_count,  # stop earlier\n",
    "\n",
    "        # include transitions that are possible, but not observed\n",
    "        'feature.possible_transitions': True\n",
    "    })\n",
    "    return trainer"
   ]
  },
  {
   "cell_type": "code",
   "execution_count": 17,
   "metadata": {},
   "outputs": [],
   "source": [
    "data_dir = './data'\n",
    "X_train, Y_train = prepare_data(data_dir)\n",
    "trainer = train_model(X_train, Y_train, 300)"
   ]
  },
  {
   "cell_type": "code",
   "execution_count": 18,
   "metadata": {},
   "outputs": [
    {
     "data": {
      "text/plain": [
       "['feature.minfreq',\n",
       " 'feature.possible_states',\n",
       " 'feature.possible_transitions',\n",
       " 'c1',\n",
       " 'c2',\n",
       " 'max_iterations',\n",
       " 'num_memories',\n",
       " 'epsilon',\n",
       " 'period',\n",
       " 'delta',\n",
       " 'linesearch',\n",
       " 'max_linesearch']"
      ]
     },
     "execution_count": 18,
     "metadata": {},
     "output_type": "execute_result"
    }
   ],
   "source": [
    "trainer.params()"
   ]
  },
  {
   "cell_type": "code",
   "execution_count": 19,
   "metadata": {},
   "outputs": [],
   "source": [
    "trainer.train(\"handwriting-reco300.crfsuite\")"
   ]
  },
  {
   "cell_type": "code",
   "execution_count": 35,
   "metadata": {},
   "outputs": [
    {
     "name": "stdout",
     "output_type": "stream",
     "text": [
      "{'num': 291, 'scores': {}, 'loss': 48308.230088, 'feature_norm': 87.335869, 'error_norm': 262.440526, 'active_features': 3736, 'linesearch_trials': 1, 'linesearch_step': 1.0, 'time': 0.805}\n",
      "{'num': 292, 'scores': {}, 'loss': 48305.784996, 'feature_norm': 87.341007, 'error_norm': 164.436991, 'active_features': 3737, 'linesearch_trials': 1, 'linesearch_step': 1.0, 'time': 0.801}\n",
      "{'num': 293, 'scores': {}, 'loss': 48305.449721, 'feature_norm': 87.350823, 'error_norm': 250.533665, 'active_features': 3733, 'linesearch_trials': 1, 'linesearch_step': 1.0, 'time': 0.802}\n",
      "{'num': 294, 'scores': {}, 'loss': 48303.219118, 'feature_norm': 87.355953, 'error_norm': 169.861008, 'active_features': 3730, 'linesearch_trials': 1, 'linesearch_step': 1.0, 'time': 0.808}\n",
      "{'num': 295, 'scores': {}, 'loss': 48302.971034, 'feature_norm': 87.367982, 'error_norm': 257.268909, 'active_features': 3730, 'linesearch_trials': 1, 'linesearch_step': 1.0, 'time': 0.799}\n",
      "{'num': 296, 'scores': {}, 'loss': 48300.664597, 'feature_norm': 87.373235, 'error_norm': 175.044021, 'active_features': 3731, 'linesearch_trials': 1, 'linesearch_step': 1.0, 'time': 0.79}\n",
      "{'num': 297, 'scores': {}, 'loss': 48300.633935, 'feature_norm': 87.384596, 'error_norm': 269.190064, 'active_features': 3729, 'linesearch_trials': 1, 'linesearch_step': 1.0, 'time': 0.798}\n",
      "{'num': 298, 'scores': {}, 'loss': 48298.077335, 'feature_norm': 87.387904, 'error_norm': 170.344176, 'active_features': 3732, 'linesearch_trials': 1, 'linesearch_step': 1.0, 'time': 0.806}\n",
      "{'num': 299, 'scores': {}, 'loss': 48297.902746, 'feature_norm': 87.397719, 'error_norm': 256.338312, 'active_features': 3733, 'linesearch_trials': 1, 'linesearch_step': 1.0, 'time': 0.809}\n",
      "{'num': 300, 'scores': {}, 'loss': 48295.514655, 'feature_norm': 87.401787, 'error_norm': 163.860136, 'active_features': 3728, 'linesearch_trials': 1, 'linesearch_step': 1.0, 'time': 0.807}\n"
     ]
    }
   ],
   "source": [
    "history_log = trainer.logparser.iterations[290:300]\n",
    "for log in history_log:\n",
    "    print (log)"
   ]
  },
  {
   "cell_type": "markdown",
   "metadata": {},
   "source": [
    "## Evaluation"
   ]
  },
  {
   "cell_type": "code",
   "execution_count": 20,
   "metadata": {},
   "outputs": [],
   "source": [
    "def get_preds(X, model_store = \"handwriting-reco300.crfsuite\"):\n",
    "    tagger = pycrfsuite.Tagger()\n",
    "    tagger.open(model_store)\n",
    "    Y_pred = [tagger.tag(x) for x in X]\n",
    "\n",
    "    return Y_pred\n",
    "\n",
    "def test_model(X_test, Y_test):\n",
    "    Y_test_pred = get_preds(X_test)\n",
    "\n",
    "    lb = LabelBinarizer()\n",
    "\n",
    "    y_test_combined = lb.fit_transform(list(chain.from_iterable(Y_test)))\n",
    "    y_pred_combined = lb.transform(list(chain.from_iterable(Y_test_pred)))\n",
    "\n",
    "    print (\"Test accuracy : {}\".format(accuracy_score(y_test_combined, y_pred_combined)))"
   ]
  },
  {
   "cell_type": "code",
   "execution_count": 21,
   "metadata": {},
   "outputs": [
    {
     "name": "stdout",
     "output_type": "stream",
     "text": [
      "Test accuracy : 0.8519077901430843\n"
     ]
    }
   ],
   "source": [
    "data_dir = './data'\n",
    "X_test, Y_test = prepare_data(data_dir, mode = \"test\")\n",
    "test_model(X_test, Y_test)"
   ]
  },
  {
   "cell_type": "code",
   "execution_count": 44,
   "metadata": {},
   "outputs": [
    {
     "data": {
      "image/png": "[encoded data removed]",
      "text/plain": [
       "<Figure size 432x288 with 1 Axes>"
      ]
     },
     "metadata": {
      "needs_background": "light"
     },
     "output_type": "display_data"
    },
    {
     "name": "stdout",
     "output_type": "stream",
     "text": [
      "['a', 'f', 't', 'e', 'r']\n"
     ]
    }
   ],
   "source": [
    "import cv2\n",
    "import matplotlib.pyplot as plt\n",
    "\n",
    "idx = 1\n",
    "test_dir = './data/test_words'\n",
    "img_name = 'img_' + str(idx) + '.png'   # img file name: img_13480.png\n",
    "img = cv2.imread(os.path.join(test_dir, img_name))\n",
    "plt.imshow(img)\n",
    "plt.show()\n",
    "print (Y_test[idx])"
   ]
  },
  {
   "cell_type": "code",
   "execution_count": null,
   "metadata": {},
   "outputs": [],
   "source": []
  }
 ],
 "metadata": {
  "kernelspec": {
   "display_name": "Python 3",
   "language": "python",
   "name": "python3"
  },
  "language_info": {
   "codemirror_mode": {
    "name": "ipython",
    "version": 3
   },
   "file_extension": ".py",
   "mimetype": "text/x-python",
   "name": "python",
   "nbconvert_exporter": "python",
   "pygments_lexer": "ipython3",
   "version": "3.6.8"
  }
 },
 "nbformat": 4,
 "nbformat_minor": 2
}
