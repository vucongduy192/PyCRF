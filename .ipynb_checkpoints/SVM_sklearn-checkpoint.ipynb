{
 "cells": [
  {
   "cell_type": "code",
   "execution_count": 1,
   "metadata": {},
   "outputs": [],
   "source": [
    "import numpy as np\n",
    "import matplotlib.pyplot as plt\n",
    "import os\n",
    "\n",
    "from sklearn.svm import LinearSVC\n",
    "from sklearn import preprocessing"
   ]
  },
  {
   "cell_type": "code",
   "execution_count": 2,
   "metadata": {},
   "outputs": [
    {
     "name": "stdout",
     "output_type": "stream",
     "text": [
      "[[0 0 0 ... 0 0 0]\n",
      " [0 0 0 ... 1 1 0]\n",
      " [0 0 0 ... 0 0 0]\n",
      " ...\n",
      " [0 0 0 ... 0 0 0]\n",
      " [0 1 1 ... 1 1 0]\n",
      " [1 0 0 ... 0 0 0]]\n",
      "(11, 128)\n"
     ]
    }
   ],
   "source": [
    "def get_content_binary_word(path):    \n",
    "    # get full character content of a word num i \n",
    "    x_word = []\n",
    "    \n",
    "    with open(path, \"r\") as f:            \n",
    "        for line_idx, line in enumerate(f):\n",
    "            # each line is a character\n",
    "            x_char_str = line.strip().split(' ')\n",
    "            x_char = [int(pixel_i) for pixel_i in x_char_str]\n",
    "            x_word.append(x_char)\n",
    "    return np.array(x_word)\n",
    "# test case\n",
    "word = get_content_binary_word('./data/train_words/text_1.txt')\n",
    "print (word)\n",
    "print (word.shape)\n",
    "\n",
    "def convert_word2label(word):\n",
    "    alphabet = \"abcdefghijklmnopqrstuvwxyz\"\n",
    "    \n",
    "    le = preprocessing.LabelEncoder()\n",
    "    le.fit(list(alphabet))\n",
    "    return le.transform(word)\n",
    "    \n",
    "def get_dataset(data_dir, mode=\"train\"):\n",
    "    words_file_dir = os.path.join(data_dir, '{}_words'.format(mode))\n",
    "    words_list_path = os.path.join(data_dir, '{}_words.txt'.format(mode))\n",
    "\n",
    "    X = []\n",
    "    y = []    \n",
    "    with open(words_list_path) as f:\n",
    "        for line in f:\n",
    "            line = line.strip()\n",
    "            idx, word = line.split()\n",
    "            \n",
    "            binary_word_path = os.path.join(words_file_dir, 'text_{}.txt'.format(idx))\n",
    "            X.append(get_content_binary_word(binary_word_path))\n",
    "            y.append(convert_word2label(list(word)))\n",
    "            \n",
    "    return np.array(X), np.array(y)"
   ]
  },
  {
   "cell_type": "code",
   "execution_count": 3,
   "metadata": {},
   "outputs": [],
   "source": [
    "data_dir = './data'\n",
    "\n",
    "X_train, y_train = get_dataset(data_dir, mode=\"train\")\n",
    "X_test, y_test = get_dataset(data_dir, mode=\"test\")"
   ]
  },
  {
   "cell_type": "code",
   "execution_count": 4,
   "metadata": {},
   "outputs": [
    {
     "name": "stdout",
     "output_type": "stream",
     "text": [
      "(13481,) (13481,)\n",
      "(7, 128) (7,)\n",
      "[0 0 0 0 0 1 1 1 0 0 0 0 0 1 1 1 0 0 0 0 0 1 0 1 0 0 0 0 1 1 0 1 0 0 0 0 1\n",
      " 0 0 1 0 0 0 0 1 0 0 1 0 0 0 1 1 1 1 1 0 0 0 1 1 1 0 0 0 0 1 1 0 0 0 0 0 0\n",
      " 1 0 0 0 0 0 0 0 1 0 0 0 0 0 0 1 0 0 0 0 0 0 0 1 0 0 0 0 0 0 1 1 0 0 0 0 0\n",
      " 0 1 0 0 0 0 0 0 0 1 0 0 0 0 0 0 0]\n"
     ]
    }
   ],
   "source": [
    "print (X_train.shape, y_train.shape)\n",
    "print (X_train[0].shape, y_train[0].shape)\n",
    "print (X_train[0][0])"
   ]
  },
  {
   "cell_type": "code",
   "execution_count": 5,
   "metadata": {},
   "outputs": [
    {
     "data": {
      "text/plain": [
       "LinearSVC(C=0.1, class_weight=None, dual=False, fit_intercept=True,\n",
       "          intercept_scaling=1, loss='squared_hinge', max_iter=1000,\n",
       "          multi_class='ovr', penalty='l2', random_state=None, tol=0.0001,\n",
       "          verbose=0)"
      ]
     },
     "execution_count": 5,
     "metadata": {},
     "output_type": "execute_result"
    }
   ],
   "source": [
    "# Train linear SVM\n",
    "svm = LinearSVC(dual=False, C=.1)\n",
    "# flatten input\n",
    "svm.fit(np.vstack(X_train), np.hstack(y_train))"
   ]
  },
  {
   "cell_type": "code",
   "execution_count": 6,
   "metadata": {},
   "outputs": [
    {
     "name": "stdout",
     "output_type": "stream",
     "text": [
      "Test score with linear SVM: 0.770827\n"
     ]
    }
   ],
   "source": [
    "print(\"Test score with linear SVM: %f\" % svm.score(np.vstack(X_test),\n",
    "                                                   np.hstack(y_test)))"
   ]
  },
  {
   "cell_type": "code",
   "execution_count": 7,
   "metadata": {},
   "outputs": [
    {
     "name": "stdout",
     "output_type": "stream",
     "text": [
      "(100622, 128)\n",
      "(100622,)\n"
     ]
    }
   ],
   "source": [
    "print (np.vstack(X_train).shape)\n",
    "print (np.hstack(y_train).shape)"
   ]
  },
  {
   "cell_type": "code",
   "execution_count": 8,
   "metadata": {},
   "outputs": [
    {
     "name": "stderr",
     "output_type": "stream",
     "text": [
      "/home/duyvc/.local/lib/python3.6/site-packages/sklearn/externals/joblib/__init__.py:15: DeprecationWarning: sklearn.externals.joblib is deprecated in 0.21 and will be removed in 0.23. Please import this functionality directly from joblib, which can be installed with: pip install joblib. If this warning is raised when loading pickled models, you may need to re-serialize those models with scikit-learn 0.21+.\n",
      "  warnings.warn(msg, category=DeprecationWarning)\n"
     ]
    },
    {
     "data": {
      "text/plain": [
       "['Sklearn_SVM.sav']"
      ]
     },
     "execution_count": 8,
     "metadata": {},
     "output_type": "execute_result"
    }
   ],
   "source": [
    "# Save model \n",
    "from sklearn.externals import joblib\n",
    "joblib.dump(svm, 'Sklearn_SVM.sav')"
   ]
  },
  {
   "cell_type": "code",
   "execution_count": 9,
   "metadata": {},
   "outputs": [],
   "source": [
    "from sklearn.externals import joblib\n",
    "model = joblib.load('Sklearn_SVM.sav')"
   ]
  },
  {
   "cell_type": "code",
   "execution_count": 10,
   "metadata": {},
   "outputs": [
    {
     "name": "stdout",
     "output_type": "stream",
     "text": [
      "Test score with linear SVM: 0.770827\n"
     ]
    }
   ],
   "source": [
    "print(\"Test score with linear SVM: %f\" % model.score(np.vstack(X_test),\n",
    "                                                   np.hstack(y_test)))"
   ]
  },
  {
   "cell_type": "code",
   "execution_count": null,
   "metadata": {},
   "outputs": [],
   "source": []
  }
 ],
 "metadata": {
  "kernelspec": {
   "display_name": "Python 3",
   "language": "python",
   "name": "python3"
  },
  "language_info": {
   "codemirror_mode": {
    "name": "ipython",
    "version": 3
   },
   "file_extension": ".py",
   "mimetype": "text/x-python",
   "name": "python",
   "nbconvert_exporter": "python",
   "pygments_lexer": "ipython3",
   "version": "3.6.8"
  }
 },
 "nbformat": 4,
 "nbformat_minor": 2
}
