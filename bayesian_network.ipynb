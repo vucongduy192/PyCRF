{
 "cells": [
  {
   "cell_type": "code",
   "execution_count": 1,
   "metadata": {},
   "outputs": [],
   "source": [
    "import numpy as np\n",
    "import pandas as pd\n",
    "import matplotlib.pyplot as plt\n",
    "import itertools"
   ]
  },
  {
   "cell_type": "code",
   "execution_count": 2,
   "metadata": {},
   "outputs": [],
   "source": [
    "def create_cpt(var_names, probs, levels_list):\n",
    "    cpt = pd.DataFrame(columns=[\"probs\"] + var_names)\n",
    "    \n",
    "    cpt[\"probs\"] = probs\n",
    "    \n",
    "    levels_table = list(itertools.product(*(levels_list)))\n",
    "    \n",
    "    if not len(levels_table) == len(probs):\n",
    "        raise('ERROR:: Incorrect probability dimensions')\n",
    "        return None\n",
    "    \n",
    "    cpt[var_names] = levels_table\n",
    "    return cpt"
   ]
  },
  {
   "cell_type": "code",
   "execution_count": 3,
   "metadata": {},
   "outputs": [],
   "source": [
    "def observe(network, var_name, observation):\n",
    "    observed_network = []\n",
    "    for cpt in network:\n",
    "        for var,obs in zip(var_name, observation):\n",
    "            if var in cpt.columns:\n",
    "                cpt = cpt[cpt[var] == obs]\n",
    "        observed_network.append(cpt)\n",
    "        \n",
    "    return observed_network"
   ]
  },
  {
   "cell_type": "code",
   "execution_count": 4,
   "metadata": {},
   "outputs": [],
   "source": [
    "def marginalize_factor(cpt, factor):\n",
    "    probs = cpt[\"probs\"]\n",
    "    cpt = cpt.drop([factor, \"probs\"], axis=1)\n",
    "    \n",
    "    marginalized_cpt = pd.DataFrame(columns=list(cpt.columns))\n",
    "    marginalized_probs = []\n",
    "    while cpt.shape[0] > 0:\n",
    "        positions = [x for x in range(0, cpt.shape[0]) if sum(cpt.iloc[0] == cpt.iloc[x]) == cpt.shape[1]]\n",
    "        marginalized_probs.append(sum(probs[probs.index[positions]]))\n",
    "        \n",
    "        marginalized_cpt = marginalized_cpt.append(cpt[:1])\n",
    "        \n",
    "        cpt = cpt.drop(cpt.index[positions], axis=0)\n",
    "        probs = probs.drop(probs.index[positions], axis=0)\n",
    "    \n",
    "    marginalized_cpt.insert(0, \"probs\", marginalized_probs)\n",
    "    return marginalized_cpt"
   ]
  },
  {
   "cell_type": "code",
   "execution_count": 5,
   "metadata": {},
   "outputs": [],
   "source": [
    "def marginalize_factors(cpt, factors):\n",
    "    for factor in factors:\n",
    "        cpt = marginalize_factor(cpt, factor)\n",
    "    \n",
    "    return cpt"
   ]
  },
  {
   "cell_type": "code",
   "execution_count": 6,
   "metadata": {},
   "outputs": [],
   "source": [
    "def marginalize(network, factors):\n",
    "    marginalized_network = []\n",
    "    for cpt in network:\n",
    "        cpt = marginalize_factors(cpt, factors)\n",
    "        marginalized_network.append(cpt)\n",
    "    return marginalized_network"
   ]
  },
  {
   "cell_type": "code",
   "execution_count": 7,
   "metadata": {},
   "outputs": [],
   "source": [
    "def factor_product(cpt1, cpt2):\n",
    "    column_names = list(set(cpt1.columns).union(set(cpt2.columns)).difference(set([\"probs\"])))\n",
    "    shared_features = list(set(cpt1.columns).intersection(set(cpt2.columns)).difference(set([\"probs\"])))\n",
    "    probs = []\n",
    "    \n",
    "    cpt = pd.DataFrame(columns=column_names)\n",
    "    idx = 0\n",
    "    \n",
    "    for i in range(0, cpt1.shape[0]):\n",
    "        for j in range(0, cpt2.shape[0]):\n",
    "            if sum(cpt1[shared_features].iloc[i] == cpt2[shared_features].iloc[j]) == len(shared_features):\n",
    "                probs.append(cpt1[\"probs\"].iloc[i] * cpt2[\"probs\"].iloc[j])\n",
    "                vals = []\n",
    "                for name in column_names:\n",
    "                    if name in cpt1.columns:\n",
    "                        vals.append(cpt1[name].iloc[i])\n",
    "                    else:\n",
    "                        vals.append(cpt2[name].iloc[j])\n",
    "                cpt.loc[idx] = vals\n",
    "                idx = idx + 1\n",
    "                \n",
    "    cpt.insert(0, \"probs\", probs)\n",
    "    return cpt"
   ]
  },
  {
   "cell_type": "code",
   "execution_count": 8,
   "metadata": {},
   "outputs": [],
   "source": [
    "def infer(network, marg_vars, obs_vars, obs_vals):\n",
    "    network = observe(network, obs_vars, obs_vals)\n",
    "    \n",
    "    for marg_var in marg_vars:\n",
    "        marg_net = []\n",
    "        rm_nodes = []\n",
    "        for i, node in enumerate(network):\n",
    "            if marg_var in node.columns:\n",
    "                marg_net.append(node)\n",
    "                rm_nodes.append(i)\n",
    "                \n",
    "        if not len(marg_net) == 0:\n",
    "            table = marg_net[0]\n",
    "            \n",
    "            rm_nodes.reverse()\n",
    "            for rm in rm_nodes:\n",
    "                del network[rm]\n",
    "                \n",
    "            for cpt in marg_net[1:]:\n",
    "                table = factor_product(table, cpt)\n",
    "                \n",
    "            marginalized_table = marginalize_factor(table, marg_var)\n",
    "            network.append(marginalized_table)            \n",
    "    \n",
    "    # When all variables have been marginalized product the table together\n",
    "    product = network[0]\n",
    "    for node in network[1:]:\n",
    "        product = factor_product(product, node)\n",
    "        \n",
    "    # Normalize\n",
    "    product[\"probs\"] = product[\"probs\"] / sum(product[\"probs\"])\n",
    "    \n",
    "    return product"
   ]
  },
  {
   "cell_type": "markdown",
   "metadata": {},
   "source": [
    "# Example 1\n",
    "## "
   ]
  },
  {
   "cell_type": "markdown",
   "metadata": {},
   "source": [
    "![Model](http://www.nbertagnolli.com/assets/Bayes_Nets/figure_01.png)"
   ]
  },
  {
   "cell_type": "code",
   "execution_count": 9,
   "metadata": {},
   "outputs": [],
   "source": [
    "chol = create_cpt([\"s\", \"c\"], [.8, .2, .4, .6], [(1, 0), (1, 0)])\n",
    "smoke = create_cpt([\"s\"], [.15, .85], [(1, 0)])\n",
    "bp = create_cpt([\"e\", \"s\", \"b\"], \n",
    "                [.45, .55, .05, .95, .95, .05, .55, .45], \n",
    "                [(1, 0), (1, 0), (1, 0)])\n",
    "exercise = create_cpt([\"e\"], [.4, .6], [(1, 0)])\n",
    "attack = create_cpt([\"b\", \"a\"], [.75, .25, .05, .95], [(1, 0), (1, 0)])\n",
    "heart_net = [exercise, smoke, chol, bp, attack]"
   ]
  },
  {
   "cell_type": "code",
   "execution_count": 10,
   "metadata": {},
   "outputs": [
    {
     "data": {
      "text/html": [
       "<div>\n",
       "<style scoped>\n",
       "    .dataframe tbody tr th:only-of-type {\n",
       "        vertical-align: middle;\n",
       "    }\n",
       "\n",
       "    .dataframe tbody tr th {\n",
       "        vertical-align: top;\n",
       "    }\n",
       "\n",
       "    .dataframe thead th {\n",
       "        text-align: right;\n",
       "    }\n",
       "</style>\n",
       "<table border=\"1\" class=\"dataframe\">\n",
       "  <thead>\n",
       "    <tr style=\"text-align: right;\">\n",
       "      <th></th>\n",
       "      <th>probs</th>\n",
       "      <th>e</th>\n",
       "    </tr>\n",
       "  </thead>\n",
       "  <tbody>\n",
       "    <tr>\n",
       "      <th>0</th>\n",
       "      <td>0.4</td>\n",
       "      <td>1</td>\n",
       "    </tr>\n",
       "    <tr>\n",
       "      <th>1</th>\n",
       "      <td>0.6</td>\n",
       "      <td>0</td>\n",
       "    </tr>\n",
       "  </tbody>\n",
       "</table>\n",
       "</div>"
      ],
      "text/plain": [
       "   probs  e\n",
       "0    0.4  1\n",
       "1    0.6  0"
      ]
     },
     "execution_count": 10,
     "metadata": {},
     "output_type": "execute_result"
    }
   ],
   "source": [
    "exercise"
   ]
  },
  {
   "cell_type": "code",
   "execution_count": 11,
   "metadata": {},
   "outputs": [
    {
     "data": {
      "text/html": [
       "<div>\n",
       "<style scoped>\n",
       "    .dataframe tbody tr th:only-of-type {\n",
       "        vertical-align: middle;\n",
       "    }\n",
       "\n",
       "    .dataframe tbody tr th {\n",
       "        vertical-align: top;\n",
       "    }\n",
       "\n",
       "    .dataframe thead th {\n",
       "        text-align: right;\n",
       "    }\n",
       "</style>\n",
       "<table border=\"1\" class=\"dataframe\">\n",
       "  <thead>\n",
       "    <tr style=\"text-align: right;\">\n",
       "      <th></th>\n",
       "      <th>probs</th>\n",
       "      <th>a</th>\n",
       "    </tr>\n",
       "  </thead>\n",
       "  <tbody>\n",
       "    <tr>\n",
       "      <th>0</th>\n",
       "      <td>0.575</td>\n",
       "      <td>1</td>\n",
       "    </tr>\n",
       "    <tr>\n",
       "      <th>1</th>\n",
       "      <td>0.425</td>\n",
       "      <td>0</td>\n",
       "    </tr>\n",
       "  </tbody>\n",
       "</table>\n",
       "</div>"
      ],
      "text/plain": [
       "   probs  a\n",
       "0  0.575  1\n",
       "1  0.425  0"
      ]
     },
     "execution_count": 11,
     "metadata": {},
     "output_type": "execute_result"
    }
   ],
   "source": [
    "\"\"\"\n",
    "Xác suất bệnh nhân bị đau tim khi biết anh ta hút thuốc\n",
    "\"\"\"\n",
    "infer(heart_net, [\"c\", \"b\", \"e\", \"s\"], [\"s\"], [1])"
   ]
  },
  {
   "cell_type": "code",
   "execution_count": 12,
   "metadata": {},
   "outputs": [
    {
     "data": {
      "text/html": [
       "<div>\n",
       "<style scoped>\n",
       "    .dataframe tbody tr th:only-of-type {\n",
       "        vertical-align: middle;\n",
       "    }\n",
       "\n",
       "    .dataframe tbody tr th {\n",
       "        vertical-align: top;\n",
       "    }\n",
       "\n",
       "    .dataframe thead th {\n",
       "        text-align: right;\n",
       "    }\n",
       "</style>\n",
       "<table border=\"1\" class=\"dataframe\">\n",
       "  <thead>\n",
       "    <tr style=\"text-align: right;\">\n",
       "      <th></th>\n",
       "      <th>probs</th>\n",
       "      <th>b</th>\n",
       "    </tr>\n",
       "  </thead>\n",
       "  <tbody>\n",
       "    <tr>\n",
       "      <th>0</th>\n",
       "      <td>0.912463</td>\n",
       "      <td>1</td>\n",
       "    </tr>\n",
       "    <tr>\n",
       "      <th>1</th>\n",
       "      <td>0.087537</td>\n",
       "      <td>0</td>\n",
       "    </tr>\n",
       "  </tbody>\n",
       "</table>\n",
       "</div>"
      ],
      "text/plain": [
       "      probs  b\n",
       "0  0.912463  1\n",
       "1  0.087537  0"
      ]
     },
     "execution_count": 12,
     "metadata": {},
     "output_type": "execute_result"
    }
   ],
   "source": [
    "\"\"\"\n",
    "Xác suất bệnh nhân huyết áp cao khi biết người đó bị đau tim\n",
    "\"\"\"\n",
    "infer(heart_net, [\"c\", \"a\", \"e\", \"s\"], [\"a\"], [1])"
   ]
  },
  {
   "cell_type": "code",
   "execution_count": 13,
   "metadata": {},
   "outputs": [
    {
     "data": {
      "text/html": [
       "<div>\n",
       "<style scoped>\n",
       "    .dataframe tbody tr th:only-of-type {\n",
       "        vertical-align: middle;\n",
       "    }\n",
       "\n",
       "    .dataframe tbody tr th {\n",
       "        vertical-align: top;\n",
       "    }\n",
       "\n",
       "    .dataframe thead th {\n",
       "        text-align: right;\n",
       "    }\n",
       "</style>\n",
       "<table border=\"1\" class=\"dataframe\">\n",
       "  <thead>\n",
       "    <tr style=\"text-align: right;\">\n",
       "      <th></th>\n",
       "      <th>probs</th>\n",
       "      <th>e</th>\n",
       "      <th>s</th>\n",
       "    </tr>\n",
       "  </thead>\n",
       "  <tbody>\n",
       "    <tr>\n",
       "      <th>0</th>\n",
       "      <td>0.065854</td>\n",
       "      <td>1</td>\n",
       "      <td>1</td>\n",
       "    </tr>\n",
       "    <tr>\n",
       "      <th>1</th>\n",
       "      <td>0.041463</td>\n",
       "      <td>1</td>\n",
       "      <td>0</td>\n",
       "    </tr>\n",
       "    <tr>\n",
       "      <th>2</th>\n",
       "      <td>0.208537</td>\n",
       "      <td>0</td>\n",
       "      <td>1</td>\n",
       "    </tr>\n",
       "    <tr>\n",
       "      <th>3</th>\n",
       "      <td>0.684146</td>\n",
       "      <td>0</td>\n",
       "      <td>0</td>\n",
       "    </tr>\n",
       "  </tbody>\n",
       "</table>\n",
       "</div>"
      ],
      "text/plain": [
       "      probs  e  s\n",
       "0  0.065854  1  1\n",
       "1  0.041463  1  0\n",
       "2  0.208537  0  1\n",
       "3  0.684146  0  0"
      ]
     },
     "execution_count": 13,
     "metadata": {},
     "output_type": "execute_result"
    }
   ],
   "source": [
    "\"\"\"\n",
    "Xác suât bệnh nhân hút thuốc và tập thể dục khi biết người đó bị huyết áp cao\n",
    "\"\"\"\n",
    "infer(heart_net, [\"c\", \"a\", \"b\"], [\"b\"], [1])"
   ]
  },
  {
   "cell_type": "code",
   "execution_count": 14,
   "metadata": {},
   "outputs": [
    {
     "data": {
      "text/html": [
       "<div>\n",
       "<style scoped>\n",
       "    .dataframe tbody tr th:only-of-type {\n",
       "        vertical-align: middle;\n",
       "    }\n",
       "\n",
       "    .dataframe tbody tr th {\n",
       "        vertical-align: top;\n",
       "    }\n",
       "\n",
       "    .dataframe thead th {\n",
       "        text-align: right;\n",
       "    }\n",
       "</style>\n",
       "<table border=\"1\" class=\"dataframe\">\n",
       "  <thead>\n",
       "    <tr style=\"text-align: right;\">\n",
       "      <th></th>\n",
       "      <th>probs</th>\n",
       "      <th>s</th>\n",
       "    </tr>\n",
       "  </thead>\n",
       "  <tbody>\n",
       "    <tr>\n",
       "      <th>0</th>\n",
       "      <td>0.613636</td>\n",
       "      <td>1</td>\n",
       "    </tr>\n",
       "    <tr>\n",
       "      <th>1</th>\n",
       "      <td>0.386364</td>\n",
       "      <td>0</td>\n",
       "    </tr>\n",
       "  </tbody>\n",
       "</table>\n",
       "</div>"
      ],
      "text/plain": [
       "      probs  s\n",
       "0  0.613636  1\n",
       "1  0.386364  0"
      ]
     },
     "execution_count": 14,
     "metadata": {},
     "output_type": "execute_result"
    }
   ],
   "source": [
    "\"\"\"\n",
    "Xác suất người đó hút thuốc khi biết người đó bị huyết áp cao và tập thể dục\n",
    "\"\"\"\n",
    "infer(heart_net, [\"c\", \"a\", \"b\", \"e\"], [\"b\", \"e\"], [1, 1])"
   ]
  },
  {
   "cell_type": "markdown",
   "metadata": {},
   "source": [
    "# Example 2\n",
    "Bài toán: Mô tả hiệu suất của học sinh trong bài kiểm tra"
   ]
  },
  {
   "cell_type": "markdown",
   "metadata": {},
   "source": [
    "![Model](https://scontent.fhan5-1.fna.fbcdn.net/v/t1.15752-9/76769639_472159256741900_1327151263900499968_n.png?_nc_cat=109&_nc_ohc=7yZ14xe3kTAAQllbUvGgLaictQ_l7YLYTUQJo2zrKKjlBCNqSrwXX23Kg&_nc_ht=scontent.fhan5-1.fna&oh=c7df27e6b976e4ee7a11ddfcca296d9f&oe=5E427190)"
   ]
  },
  {
   "cell_type": "code",
   "execution_count": 43,
   "metadata": {},
   "outputs": [],
   "source": [
    "difficulty = create_cpt(['d'], [.6, .4], [(0, 1)])\n",
    "intelligence = create_cpt(['i'], [.7, .3], [(0, 1)])\n",
    "grade = create_cpt(['i', 'd', 'g'], [.3, .4, .3, .05, .25, .7, .9, .08, .02, .5, .3, .2], [(0, 1), (0, 1), (0, 1, 2)])\n",
    "sat = create_cpt(['i', 's'], [.95, .05, .2, .8], [(0, 1), (0, 1)])\n",
    "letter = create_cpt(['g', 'l'], [.1, .9, .4, .6, .99, .01], [(0, 1, 2), (0, 1)])\n",
    "grade_network = [difficulty, intelligence, sat, grade, letter]"
   ]
  },
  {
   "cell_type": "code",
   "execution_count": 37,
   "metadata": {},
   "outputs": [
    {
     "data": {
      "text/html": [
       "<div>\n",
       "<style scoped>\n",
       "    .dataframe tbody tr th:only-of-type {\n",
       "        vertical-align: middle;\n",
       "    }\n",
       "\n",
       "    .dataframe tbody tr th {\n",
       "        vertical-align: top;\n",
       "    }\n",
       "\n",
       "    .dataframe thead th {\n",
       "        text-align: right;\n",
       "    }\n",
       "</style>\n",
       "<table border=\"1\" class=\"dataframe\">\n",
       "  <thead>\n",
       "    <tr style=\"text-align: right;\">\n",
       "      <th></th>\n",
       "      <th>probs</th>\n",
       "      <th>g</th>\n",
       "      <th>l</th>\n",
       "    </tr>\n",
       "  </thead>\n",
       "  <tbody>\n",
       "    <tr>\n",
       "      <th>0</th>\n",
       "      <td>0.10</td>\n",
       "      <td>0</td>\n",
       "      <td>0</td>\n",
       "    </tr>\n",
       "    <tr>\n",
       "      <th>1</th>\n",
       "      <td>0.90</td>\n",
       "      <td>0</td>\n",
       "      <td>1</td>\n",
       "    </tr>\n",
       "    <tr>\n",
       "      <th>2</th>\n",
       "      <td>0.40</td>\n",
       "      <td>1</td>\n",
       "      <td>0</td>\n",
       "    </tr>\n",
       "    <tr>\n",
       "      <th>3</th>\n",
       "      <td>0.60</td>\n",
       "      <td>1</td>\n",
       "      <td>1</td>\n",
       "    </tr>\n",
       "    <tr>\n",
       "      <th>4</th>\n",
       "      <td>0.99</td>\n",
       "      <td>2</td>\n",
       "      <td>0</td>\n",
       "    </tr>\n",
       "    <tr>\n",
       "      <th>5</th>\n",
       "      <td>0.01</td>\n",
       "      <td>2</td>\n",
       "      <td>1</td>\n",
       "    </tr>\n",
       "  </tbody>\n",
       "</table>\n",
       "</div>"
      ],
      "text/plain": [
       "   probs  g  l\n",
       "0   0.10  0  0\n",
       "1   0.90  0  1\n",
       "2   0.40  1  0\n",
       "3   0.60  1  1\n",
       "4   0.99  2  0\n",
       "5   0.01  2  1"
      ]
     },
     "execution_count": 37,
     "metadata": {},
     "output_type": "execute_result"
    }
   ],
   "source": [
    "letter"
   ]
  },
  {
   "cell_type": "code",
   "execution_count": 44,
   "metadata": {},
   "outputs": [
    {
     "data": {
      "text/html": [
       "<div>\n",
       "<style scoped>\n",
       "    .dataframe tbody tr th:only-of-type {\n",
       "        vertical-align: middle;\n",
       "    }\n",
       "\n",
       "    .dataframe tbody tr th {\n",
       "        vertical-align: top;\n",
       "    }\n",
       "\n",
       "    .dataframe thead th {\n",
       "        text-align: right;\n",
       "    }\n",
       "</style>\n",
       "<table border=\"1\" class=\"dataframe\">\n",
       "  <thead>\n",
       "    <tr style=\"text-align: right;\">\n",
       "      <th></th>\n",
       "      <th>probs</th>\n",
       "      <th>g</th>\n",
       "    </tr>\n",
       "  </thead>\n",
       "  <tbody>\n",
       "    <tr>\n",
       "      <th>0</th>\n",
       "      <td>0.648570</td>\n",
       "      <td>0</td>\n",
       "    </tr>\n",
       "    <tr>\n",
       "      <th>1</th>\n",
       "      <td>0.344471</td>\n",
       "      <td>1</td>\n",
       "    </tr>\n",
       "    <tr>\n",
       "      <th>2</th>\n",
       "      <td>0.006959</td>\n",
       "      <td>2</td>\n",
       "    </tr>\n",
       "  </tbody>\n",
       "</table>\n",
       "</div>"
      ],
      "text/plain": [
       "      probs  g\n",
       "0  0.648570  0\n",
       "1  0.344471  1\n",
       "2  0.006959  2"
      ]
     },
     "execution_count": 44,
     "metadata": {},
     "output_type": "execute_result"
    }
   ],
   "source": [
    "\"\"\"\n",
    "Xác suất điểm cao của người đó khi biết người đó nhận được thư giới thiệu\n",
    "\"\"\"\n",
    "infer(grade_network, ['s', 'd', 'i', 'l'], ['l'], [1])"
   ]
  },
  {
   "cell_type": "code",
   "execution_count": 45,
   "metadata": {},
   "outputs": [
    {
     "data": {
      "text/html": [
       "<div>\n",
       "<style scoped>\n",
       "    .dataframe tbody tr th:only-of-type {\n",
       "        vertical-align: middle;\n",
       "    }\n",
       "\n",
       "    .dataframe tbody tr th {\n",
       "        vertical-align: top;\n",
       "    }\n",
       "\n",
       "    .dataframe thead th {\n",
       "        text-align: right;\n",
       "    }\n",
       "</style>\n",
       "<table border=\"1\" class=\"dataframe\">\n",
       "  <thead>\n",
       "    <tr style=\"text-align: right;\">\n",
       "      <th></th>\n",
       "      <th>probs</th>\n",
       "      <th>s</th>\n",
       "    </tr>\n",
       "  </thead>\n",
       "  <tbody>\n",
       "    <tr>\n",
       "      <th>0</th>\n",
       "      <td>0.2</td>\n",
       "      <td>0</td>\n",
       "    </tr>\n",
       "    <tr>\n",
       "      <th>1</th>\n",
       "      <td>0.8</td>\n",
       "      <td>1</td>\n",
       "    </tr>\n",
       "  </tbody>\n",
       "</table>\n",
       "</div>"
      ],
      "text/plain": [
       "   probs  s\n",
       "0    0.2  0\n",
       "1    0.8  1"
      ]
     },
     "execution_count": 45,
     "metadata": {},
     "output_type": "execute_result"
    }
   ],
   "source": [
    "\"\"\"\n",
    "Xác suất người đó đỗ SAT khi người đó thông minh\n",
    "\"\"\"\n",
    "infer(grade_network, ['d', 'i', 'g', 'l'], ['i'], [1])"
   ]
  }
 ],
 "metadata": {
  "kernelspec": {
   "display_name": "Python 3",
   "language": "python",
   "name": "python3"
  },
  "language_info": {
   "codemirror_mode": {
    "name": "ipython",
    "version": 3
   },
   "file_extension": ".py",
   "mimetype": "text/x-python",
   "name": "python",
   "nbconvert_exporter": "python",
   "pygments_lexer": "ipython3",
   "version": "3.5.2"
  }
 },
 "nbformat": 4,
 "nbformat_minor": 4
}
